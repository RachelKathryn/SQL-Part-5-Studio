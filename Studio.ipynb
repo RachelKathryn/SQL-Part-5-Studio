{
    "metadata": {
        "kernelspec": {
            "name": "SQL",
            "display_name": "SQL",
            "language": "sql"
        },
        "language_info": {
            "name": "sql",
            "version": ""
        },
        "extensions": {
            "azuredatastudio": {
                "version": 1,
                "views": []
            }
        }
    },
    "nbformat_minor": 2,
    "nbformat": 4,
    "cells": [
        {
            "cell_type": "markdown",
            "source": [
                "# Lesson 14 Studio:  A Library Service\n",
                "\n",
                "## Setting Up Your Data\n",
                "\n",
                "You will be creating 5 new tables within your own schema.\n",
                "\n",
                "4 of the tables can be populated using the starter code which can be found in the folder \"[Starter Code](https://github.com/speudusa/SQL-Part-5-Studio/tree/master/Starter%20Code)\" in the studio GitHub repository. \n",
                "\n",
                "After setting up the data you should have the following five tables:\n",
                "\n",
                "1. book\n",
                "2. author\n",
                "3. patron\n",
                "4. genre\n",
                "5. loan"
            ],
            "metadata": {
                "azdata_cell_guid": "928fed11-edfb-4971-8795-99e1a2479024"
            },
            "attachments": {}
        },
        {
            "cell_type": "markdown",
            "source": [
                "## **Part A: Setting Up Your Tables**\n",
                "\n",
                "### **Book Table**\n",
                "\n",
                "To create the **book** table, you can use the following SQL query:\n",
                "\n",
                "```\n",
                "CREATE TABLE [DB].[schema].book (\n",
                "    book_id INT IDENTITY(1,1) PRIMARY KEY, \n",
                "    author_id INT,\n",
                "    title VARCHAR(255),\n",
                "    isbn INT,\n",
                "    available BIT,\n",
                "    genre_id INT\n",
                ");\n",
                "```\n",
                "\n",
                "_A few notes on this syntax:_\n",
                "\n",
                "> On Auto-incrementing:\n",
                "> \n",
                "> We are going to have SQL help us assign book\\_id numbers using auto-incrementing using the **IDENTITY** property.\n",
                "> \n",
                "> The [IDENTITY](https://docs.microsoft.com/en-us/sql/t-sql/statements/create-table-transact-sql-identity-property?view=sql-server-ver15) syntax is as follows: **IDENTITY(seed, increment)**.  We want to seed the first id number as 1 in this table and increment by 1 for each following book\\_id.\n",
                "\n",
                "> On BIT datatypes:\n",
                "> \n",
                "> For the **available** column, we are going to use the [BIT datatype](https://docs.microsoft.com/en-us/sql/t-sql/data-types/bit-transact-sql?view=sql-server-ver15) to represent True or False values.  Bit allows three entries: 0 which will stand for false,  1 which will stand for true,  and NULL.\n",
                "\n",
                "> On CREATE TABLES:\n",
                "> \n",
                "> You may only create a table once.  You may comment out your creation query once you run it."
            ],
            "metadata": {
                "azdata_cell_guid": "3cd07164-2b30-427a-9b61-2889c08cdf24"
            },
            "attachments": {}
        },
        {
            "cell_type": "code",
            "source": [
                "-- Create the book table here.  Update the name of the database and schema.\n",
                "CREATE TABLE JunkDB_STL_May2023.rachel.book (\n",
                "    book_id INT IDENTITY(1,1) PRIMARY KEY, \n",
                "    author_id INT,\n",
                "    title VARCHAR(255),\n",
                "    isbn INT,\n",
                "    available BIT,\n",
                "    genre_id INT\n",
                ");"
            ],
            "metadata": {
                "azdata_cell_guid": "754ed0e1-18d8-4a12-ac6c-c19d7f671a0d",
                "tags": [],
                "language": "sql"
            },
            "outputs": [
                {
                    "output_type": "display_data",
                    "data": {
                        "text/html": "Commands completed successfully."
                    },
                    "metadata": {}
                },
                {
                    "output_type": "display_data",
                    "data": {
                        "text/html": "Total execution time: 00:00:00.035"
                    },
                    "metadata": {}
                }
            ],
            "execution_count": 2
        },
        {
            "cell_type": "markdown",
            "source": [
                "### Populate the **book** table.\n",
                "\n",
                "For the starter data, use the [book\\_data.ipynb notebook](https://github.com/speudusa/SQL-Part-5-Studio/tree/master/Starter%20Code).\n",
                "\n",
                "> You may copy/paste the commands into the next code block.  You will need to update each INSERT statement to contain the names of your database and schema."
            ],
            "metadata": {
                "azdata_cell_guid": "8a158f8e-a006-4b9c-a5b0-8dca2c8ed558"
            },
            "attachments": {}
        },
        {
            "cell_type": "code",
            "source": [
                "-- Paste the book data values in this code box.  Be sure to update database and schema names.\n",
                "INSERT INTO JunkDB_STL_May2023.rachel.book(author_id, title, isbn, available, genre_id)\n",
                "VALUES (2, 'A Midsummers Night Dream', 978149413, 1, 23)\n",
                "\n",
                "INSERT INTO JunkDB_STL_May2023.rachel.book(author_id, title, isbn, available, genre_id)\n",
                "VALUES (2, 'Romeo and Juliet', 988535196, 1, 3);\n",
                "\n",
                "INSERT INTO JunkDB_STL_May2023.rachel.book(author_id, title, isbn, available, genre_id)\n",
                "VALUES (1, 'The Golden Compass', 451664226, 1, 1);\n",
                "\n",
                "INSERT INTO JunkDB_STL_May2023.rachel.book(author_id, title, isbn, available, genre_id)\n",
                "VALUES (1, 'The Subtle Knife', 160419390, 1, 1);\n",
                "\n",
                "INSERT INTO JunkDB_STL_May2023.rachel.book(author_id, title, isbn, available, genre_id)\n",
                "VALUES (1, 'The Amber Spyglass', 94387895, 1, 1);\n",
                "\n",
                "INSERT INTO JunkDB_STL_May2023.rachel.book(author_id, title, isbn, available, genre_id)\n",
                "VALUES (3, 'The Alchemist', 464069772, 1, 2);\n",
                "\n",
                "INSERT INTO JunkDB_STL_May2023.rachel.book(author_id, title, isbn, available, genre_id)\n",
                "VALUES (4, 'And Then There Were None', 335973357, 1, 6);\n",
                "\n",
                "INSERT INTO JunkDB_STL_May2023.rachel.book(author_id, title, isbn, available, genre_id)\n",
                "VALUES (5, 'The Joy Luck Club', 990050329, 1, 10);\n",
                "\n",
                "INSERT INTO JunkDB_STL_May2023.rachel.book(author_id, title, isbn, available, genre_id)\n",
                "VALUES (5, 'The Moon Lady', 91720786, 1, 24);\n",
                "\n",
                "INSERT INTO JunkDB_STL_May2023.rachel.book(author_id, title, isbn, available, genre_id)\n",
                "VALUES (6, 'Sense and Sensibility', 156879860, 1, 2);\n",
                "\n",
                "INSERT INTO JunkDB_STL_May2023.rachel.book(author_id, title, isbn, available, genre_id)\n",
                "VALUES (6, 'Northanger Abbey', 951273178, 1, 3);\n",
                "\n",
                "INSERT INTO JunkDB_STL_May2023.rachel.book(author_id, title, isbn, available, genre_id)\n",
                "VALUES (6, 'Pride and Prejudice', 415886839, 1, 3);\n",
                "\n",
                "INSERT INTO JunkDB_STL_May2023.rachel.book(author_id, title, isbn, available, genre_id)\n",
                "VALUES (6, 'Mansfield Park', 188534067, 1, 3);\n",
                "\n",
                "INSERT INTO JunkDB_STL_May2023.rachel.book(author_id, title, isbn, available, genre_id)\n",
                "VALUES (6, 'Emma', 994896202, 1, 3);\n",
                "\n",
                "INSERT INTO JunkDB_STL_May2023.rachel.book(author_id, title, isbn, available, genre_id)\n",
                "VALUES (6, 'Persuasion', 28150097, 1, 3);\n",
                "\n",
                "INSERT INTO JunkDB_STL_May2023.rachel.book(author_id, title, isbn, available, genre_id)\n",
                "VALUES (6, 'Lady Susan', 230962926, 1, 3);\n",
                "\n",
                "INSERT INTO JunkDB_STL_May2023.rachel.book(author_id, title, isbn, available, genre_id)\n",
                "VALUES (7, 'Wuthering Heights', 280569946, 1, 3);\n",
                "\n",
                "INSERT INTO JunkDB_STL_May2023.rachel.book(author_id, title, isbn, available, genre_id)\n",
                "VALUES (8, 'The Handmaids Tale', 639239663, 1, 5);\n",
                "\n",
                "INSERT INTO JunkDB_STL_May2023.rachel.book(author_id, title, isbn, available, genre_id)\n",
                "VALUES (8, 'The Testaments', 826875490, 1, 5);\n",
                "\n",
                "INSERT INTO JunkDB_STL_May2023.rachel.book(author_id, title, isbn, available, genre_id)\n",
                "VALUES (9, 'The Parable of the Sower', 283359358, 1, 5);\n",
                "\n",
                "INSERT INTO JunkDB_STL_May2023.rachel.book(author_id, title, isbn, available, genre_id)\n",
                "VALUES (10, 'Little Women', 495409887, 1, 23);\n",
                "\n",
                "INSERT INTO JunkDB_STL_May2023.rachel.book(author_id, title, isbn, available, genre_id)\n",
                "VALUES (11, 'Still Life', 455128657, 1, 6);\n",
                "\n",
                "INSERT INTO JunkDB_STL_May2023.rachel.book(author_id, title, isbn, available, genre_id)\n",
                "VALUES (11, 'A Fatal Grace', 832517012, 1, 6);\n",
                "\n",
                "INSERT INTO JunkDB_STL_May2023.rachel.book(author_id, title, isbn, available, genre_id)\n",
                "VALUES (11, 'The Cruelest Month', 419285319, 1, 6);\n",
                "\n",
                "INSERT INTO JunkDB_STL_May2023.rachel.book(author_id, title, isbn, available, genre_id)\n",
                "VALUES (11, 'The Murder Stone', 656621400, 1, 6);\n",
                "\n",
                "INSERT INTO JunkDB_STL_May2023.rachel.book(author_id, title, isbn, available, genre_id)\n",
                "VALUES (11, 'The Brutal Telling', 144255852, 1, 6);\n",
                "\n",
                "INSERT INTO JunkDB_STL_May2023.rachel.book(author_id, title, isbn, available, genre_id)\n",
                "VALUES (11, 'Bury Your Dead', 208180961, 1, 6);\n",
                "\n",
                "INSERT INTO JunkDB_STL_May2023.rachel.book(author_id, title, isbn, available, genre_id)\n",
                "VALUES (11, 'A Trick of the Light', 93451531, 1, 6);\n",
                "\n",
                "INSERT INTO JunkDB_STL_May2023.rachel.book(author_id, title, isbn, available, genre_id)\n",
                "VALUES (12, 'Midnights Children', 881082293, 1, 10);\n",
                "\n",
                "INSERT INTO JunkDB_STL_May2023.rachel.book(author_id, title, isbn, available, genre_id)\n",
                "VALUES (13, 'Dont Let the Pigeon Drive the Bus!', 18409532, 1, 24);\n",
                "\n",
                "INSERT INTO JunkDB_STL_May2023.rachel.book(author_id, title, isbn, available, genre_id)\n",
                "VALUES (14, 'Beezus and Ramona', 744412630, 1, 24);\n",
                "\n",
                "INSERT INTO JunkDB_STL_May2023.rachel.book(author_id, title, isbn, available, genre_id)\n",
                "VALUES (15, 'Organic Chemistry', 604328803, 1, 25);\n",
                "\n",
                "INSERT INTO JunkDB_STL_May2023.rachel.book(author_id, title, isbn, available, genre_id)\n",
                "VALUES (16, 'I Know Why the Caged Bird Sings', 909947112, 1, 12);\n",
                "\n",
                "INSERT INTO JunkDB_STL_May2023.rachel.book(author_id, title, isbn, available, genre_id)\n",
                "VALUES (17, 'Beloved', 46736233, 1, 10);\n",
                "\n",
                "INSERT INTO JunkDB_STL_May2023.rachel.book(author_id, title, isbn, available, genre_id)\n",
                "VALUES (18, 'Brassbones and Rainbows', 330608463, 1, 26);"
            ],
            "metadata": {
                "azdata_cell_guid": "1abb744a-1418-4a8a-83c6-837676f6f47b",
                "tags": [],
                "language": "sql"
            },
            "outputs": [
                {
                    "output_type": "display_data",
                    "data": {
                        "text/html": "(1 row affected)"
                    },
                    "metadata": {}
                },
                {
                    "output_type": "display_data",
                    "data": {
                        "text/html": "(1 row affected)"
                    },
                    "metadata": {}
                },
                {
                    "output_type": "display_data",
                    "data": {
                        "text/html": "(1 row affected)"
                    },
                    "metadata": {}
                },
                {
                    "output_type": "display_data",
                    "data": {
                        "text/html": "(1 row affected)"
                    },
                    "metadata": {}
                },
                {
                    "output_type": "display_data",
                    "data": {
                        "text/html": "(1 row affected)"
                    },
                    "metadata": {}
                },
                {
                    "output_type": "display_data",
                    "data": {
                        "text/html": "(1 row affected)"
                    },
                    "metadata": {}
                },
                {
                    "output_type": "display_data",
                    "data": {
                        "text/html": "(1 row affected)"
                    },
                    "metadata": {}
                },
                {
                    "output_type": "display_data",
                    "data": {
                        "text/html": "(1 row affected)"
                    },
                    "metadata": {}
                },
                {
                    "output_type": "display_data",
                    "data": {
                        "text/html": "(1 row affected)"
                    },
                    "metadata": {}
                },
                {
                    "output_type": "display_data",
                    "data": {
                        "text/html": "(1 row affected)"
                    },
                    "metadata": {}
                },
                {
                    "output_type": "display_data",
                    "data": {
                        "text/html": "(1 row affected)"
                    },
                    "metadata": {}
                },
                {
                    "output_type": "display_data",
                    "data": {
                        "text/html": "(1 row affected)"
                    },
                    "metadata": {}
                },
                {
                    "output_type": "display_data",
                    "data": {
                        "text/html": "(1 row affected)"
                    },
                    "metadata": {}
                },
                {
                    "output_type": "display_data",
                    "data": {
                        "text/html": "(1 row affected)"
                    },
                    "metadata": {}
                },
                {
                    "output_type": "display_data",
                    "data": {
                        "text/html": "(1 row affected)"
                    },
                    "metadata": {}
                },
                {
                    "output_type": "display_data",
                    "data": {
                        "text/html": "(1 row affected)"
                    },
                    "metadata": {}
                },
                {
                    "output_type": "display_data",
                    "data": {
                        "text/html": "(1 row affected)"
                    },
                    "metadata": {}
                },
                {
                    "output_type": "display_data",
                    "data": {
                        "text/html": "(1 row affected)"
                    },
                    "metadata": {}
                },
                {
                    "output_type": "display_data",
                    "data": {
                        "text/html": "(1 row affected)"
                    },
                    "metadata": {}
                },
                {
                    "output_type": "display_data",
                    "data": {
                        "text/html": "(1 row affected)"
                    },
                    "metadata": {}
                },
                {
                    "output_type": "display_data",
                    "data": {
                        "text/html": "(1 row affected)"
                    },
                    "metadata": {}
                },
                {
                    "output_type": "display_data",
                    "data": {
                        "text/html": "(1 row affected)"
                    },
                    "metadata": {}
                },
                {
                    "output_type": "display_data",
                    "data": {
                        "text/html": "(1 row affected)"
                    },
                    "metadata": {}
                },
                {
                    "output_type": "display_data",
                    "data": {
                        "text/html": "(1 row affected)"
                    },
                    "metadata": {}
                },
                {
                    "output_type": "display_data",
                    "data": {
                        "text/html": "(1 row affected)"
                    },
                    "metadata": {}
                },
                {
                    "output_type": "display_data",
                    "data": {
                        "text/html": "(1 row affected)"
                    },
                    "metadata": {}
                },
                {
                    "output_type": "display_data",
                    "data": {
                        "text/html": "(1 row affected)"
                    },
                    "metadata": {}
                },
                {
                    "output_type": "display_data",
                    "data": {
                        "text/html": "(1 row affected)"
                    },
                    "metadata": {}
                },
                {
                    "output_type": "display_data",
                    "data": {
                        "text/html": "(1 row affected)"
                    },
                    "metadata": {}
                },
                {
                    "output_type": "display_data",
                    "data": {
                        "text/html": "(1 row affected)"
                    },
                    "metadata": {}
                },
                {
                    "output_type": "display_data",
                    "data": {
                        "text/html": "(1 row affected)"
                    },
                    "metadata": {}
                },
                {
                    "output_type": "display_data",
                    "data": {
                        "text/html": "(1 row affected)"
                    },
                    "metadata": {}
                },
                {
                    "output_type": "display_data",
                    "data": {
                        "text/html": "(1 row affected)"
                    },
                    "metadata": {}
                },
                {
                    "output_type": "display_data",
                    "data": {
                        "text/html": "(1 row affected)"
                    },
                    "metadata": {}
                },
                {
                    "output_type": "display_data",
                    "data": {
                        "text/html": "(1 row affected)"
                    },
                    "metadata": {}
                },
                {
                    "output_type": "display_data",
                    "data": {
                        "text/html": "Total execution time: 00:00:00.079"
                    },
                    "metadata": {}
                }
            ],
            "execution_count": 3
        },
        {
            "cell_type": "markdown",
            "source": [
                "### Test your data.  \n",
                "\n",
                "Run a quick query of your choice to see if the book table was properly created."
            ],
            "metadata": {
                "azdata_cell_guid": "1fe68960-aaec-456d-bbd9-4e00d73f542d"
            },
            "attachments": {}
        },
        {
            "cell_type": "code",
            "source": [
                "-- test your book table here.\n",
                "SELECT TOP 10 * FROM JunkDB_STL_May2023.rachel.book"
            ],
            "metadata": {
                "azdata_cell_guid": "b0d6fa80-cde5-46d3-a2c2-d93dbfb1805f",
                "language": "sql"
            },
            "outputs": [
                {
                    "output_type": "display_data",
                    "data": {
                        "text/html": "(10 rows affected)"
                    },
                    "metadata": {}
                },
                {
                    "output_type": "display_data",
                    "data": {
                        "text/html": "Total execution time: 00:00:00.077"
                    },
                    "metadata": {}
                },
                {
                    "output_type": "execute_result",
                    "metadata": {},
                    "execution_count": 4,
                    "data": {
                        "application/vnd.dataresource+json": {
                            "schema": {
                                "fields": [
                                    {
                                        "name": "book_id"
                                    },
                                    {
                                        "name": "author_id"
                                    },
                                    {
                                        "name": "title"
                                    },
                                    {
                                        "name": "isbn"
                                    },
                                    {
                                        "name": "available"
                                    },
                                    {
                                        "name": "genre_id"
                                    }
                                ]
                            },
                            "data": [
                                {
                                    "book_id": "1",
                                    "author_id": "2",
                                    "title": "A Midsummers Night Dream",
                                    "isbn": "978149413",
                                    "available": "1",
                                    "genre_id": "23"
                                },
                                {
                                    "book_id": "2",
                                    "author_id": "2",
                                    "title": "Romeo and Juliet",
                                    "isbn": "988535196",
                                    "available": "1",
                                    "genre_id": "3"
                                },
                                {
                                    "book_id": "3",
                                    "author_id": "1",
                                    "title": "The Golden Compass",
                                    "isbn": "451664226",
                                    "available": "1",
                                    "genre_id": "1"
                                },
                                {
                                    "book_id": "4",
                                    "author_id": "1",
                                    "title": "The Subtle Knife",
                                    "isbn": "160419390",
                                    "available": "1",
                                    "genre_id": "1"
                                },
                                {
                                    "book_id": "5",
                                    "author_id": "1",
                                    "title": "The Amber Spyglass",
                                    "isbn": "94387895",
                                    "available": "1",
                                    "genre_id": "1"
                                },
                                {
                                    "book_id": "6",
                                    "author_id": "3",
                                    "title": "The Alchemist",
                                    "isbn": "464069772",
                                    "available": "1",
                                    "genre_id": "2"
                                },
                                {
                                    "book_id": "7",
                                    "author_id": "4",
                                    "title": "And Then There Were None",
                                    "isbn": "335973357",
                                    "available": "1",
                                    "genre_id": "6"
                                },
                                {
                                    "book_id": "8",
                                    "author_id": "5",
                                    "title": "The Joy Luck Club",
                                    "isbn": "990050329",
                                    "available": "1",
                                    "genre_id": "10"
                                },
                                {
                                    "book_id": "9",
                                    "author_id": "5",
                                    "title": "The Moon Lady",
                                    "isbn": "91720786",
                                    "available": "1",
                                    "genre_id": "24"
                                },
                                {
                                    "book_id": "10",
                                    "author_id": "6",
                                    "title": "Sense and Sensibility",
                                    "isbn": "156879860",
                                    "available": "1",
                                    "genre_id": "2"
                                }
                            ]
                        },
                        "text/html": [
                            "<table>",
                            "<tr><th>book_id</th><th>author_id</th><th>title</th><th>isbn</th><th>available</th><th>genre_id</th></tr>",
                            "<tr><td>1</td><td>2</td><td>A Midsummers Night Dream</td><td>978149413</td><td>1</td><td>23</td></tr>",
                            "<tr><td>2</td><td>2</td><td>Romeo and Juliet</td><td>988535196</td><td>1</td><td>3</td></tr>",
                            "<tr><td>3</td><td>1</td><td>The Golden Compass</td><td>451664226</td><td>1</td><td>1</td></tr>",
                            "<tr><td>4</td><td>1</td><td>The Subtle Knife</td><td>160419390</td><td>1</td><td>1</td></tr>",
                            "<tr><td>5</td><td>1</td><td>The Amber Spyglass</td><td>94387895</td><td>1</td><td>1</td></tr>",
                            "<tr><td>6</td><td>3</td><td>The Alchemist</td><td>464069772</td><td>1</td><td>2</td></tr>",
                            "<tr><td>7</td><td>4</td><td>And Then There Were None</td><td>335973357</td><td>1</td><td>6</td></tr>",
                            "<tr><td>8</td><td>5</td><td>The Joy Luck Club</td><td>990050329</td><td>1</td><td>10</td></tr>",
                            "<tr><td>9</td><td>5</td><td>The Moon Lady</td><td>91720786</td><td>1</td><td>24</td></tr>",
                            "<tr><td>10</td><td>6</td><td>Sense and Sensibility</td><td>156879860</td><td>1</td><td>2</td></tr>",
                            "</table>"
                        ]
                    }
                }
            ],
            "execution_count": 4
        },
        {
            "cell_type": "markdown",
            "source": [
                "We will repeat a similar process for the **author, patron,** and **genre** tables. \n",
                "\n",
                "### **Author Table**\n",
                "\n",
                "To create the **author** table, you will use the following code:\n",
                "\n",
                "```\n",
                "CREATE TABLE [DB].[schema].author (\n",
                "    author_id INT IDENTITY(1,1), PRIMARY KEY\n",
                "    first_name VARCHAR(255),\n",
                "    last_name VARCHAR(255),\n",
                "    birth_year INT,\n",
                "    death_year INT\n",
                ");\n",
                "```"
            ],
            "metadata": {
                "azdata_cell_guid": "b63ee318-4506-48f1-adb1-267925282624"
            },
            "attachments": {}
        },
        {
            "cell_type": "code",
            "source": [
                "-- create the author table here:\n",
                "CREATE TABLE JunkDB_STL_May2023.rachel.author (\n",
                "    author_id INT IDENTITY(1,1) PRIMARY KEY,\n",
                "    first_name VARCHAR(255),\n",
                "    last_name VARCHAR(255),\n",
                "    birth_year INT,\n",
                "    death_year INT\n",
                ");"
            ],
            "metadata": {
                "azdata_cell_guid": "c3903edb-35bf-4806-b554-ecbf3736b7bf",
                "language": "sql"
            },
            "outputs": [
                {
                    "output_type": "display_data",
                    "data": {
                        "text/html": "Commands completed successfully."
                    },
                    "metadata": {}
                },
                {
                    "output_type": "display_data",
                    "data": {
                        "text/html": "Total execution time: 00:00:00.042"
                    },
                    "metadata": {}
                }
            ],
            "execution_count": 7
        },
        {
            "cell_type": "markdown",
            "source": [
                "Populate the **author** table with the [author\\_data.ipynb](https://github.com/speudusa/SQL-Part-5-Studio/tree/master/Starter%20Code)."
            ],
            "metadata": {
                "azdata_cell_guid": "80c74052-6126-4ebd-90fb-4fd6720c79ac"
            },
            "attachments": {}
        },
        {
            "cell_type": "code",
            "source": [
                "-- paste the author data values in this code.\n",
                "INSERT INTO JunkDB_STL_May2023.rachel.author(first_name, last_name, birth_year, death_year)\n",
                "VALUES ('Phillip', 'Pullman', 1946, null);\n",
                "\n",
                "INSERT INTO JunkDB_STL_May2023.rachel.author(first_name, last_name, birth_year, death_year)\n",
                "VALUES ('William', 'Shakespeare', 1564, 1616);\n",
                "\n",
                "INSERT INTO JunkDB_STL_May2023.rachel.author(first_name, last_name, birth_year, death_year)\n",
                "VALUES ('Paulo', 'Coelho', 1947, null);\n",
                "\n",
                "INSERT INTO JunkDB_STL_May2023.rachel.author(first_name, last_name, birth_year, death_year)\n",
                "VALUES ('Agatha', 'Christie', 1890-09-15, 1976-01-12);\n",
                "\n",
                "INSERT INTO JunkDB_STL_May2023.rachel.author(first_name, last_name, birth_year, death_year)\n",
                "VALUES ('Amy', 'Tan', 1952-02-19, null);\n",
                "\n",
                "INSERT INTO JunkDB_STL_May2023.rachel.author(first_name, last_name, birth_year, death_year)\n",
                "VALUES ('Jane', 'Austin', 1775-12-16, 1817-07-18);\n",
                "\n",
                "INSERT INTO JunkDB_STL_May2023.rachel.author(first_name, last_name, birth_year, death_year)\n",
                "VALUES ('Emily', 'Bronte', 1818-07-30, 1848-12-19);\n",
                "\n",
                "INSERT INTO JunkDB_STL_May2023.rachel.author(first_name, last_name, birth_year, death_year)\n",
                "VALUES ('Margaret', 'Atwood', 1939-11-18, null);\n",
                "\n",
                "INSERT INTO JunkDB_STL_May2023.rachel.author(first_name, last_name, birth_year, death_year)\n",
                "VALUES ('Octavia', 'Butler', 1947-06-22, 2006-02-24);\n",
                "\n",
                "INSERT INTO JunkDB_STL_May2023.rachel.author(first_name, last_name, birth_year, death_year)\n",
                "VALUES ('Louisa May', 'Alcott', 1832-11-29, 1888-03-06);\n",
                "\n",
                "INSERT INTO JunkDB_STL_May2023.rachel.author(first_name, last_name, birth_year, death_year)\n",
                "VALUES ('Louise', 'Penny', 1958-07-01, null);\n",
                "\n",
                "INSERT INTO JunkDB_STL_May2023.rachel.author(first_name, last_name, birth_year, death_year)\n",
                "VALUES ('Salman', 'Rushdie', 1947-08-19, null);\n",
                "\n",
                "INSERT INTO JunkDB_STL_May2023.rachel.author(first_name, last_name, birth_year, death_year)\n",
                "VALUES ('Mo', 'Willems', 1968-02-11, null);\n",
                "\n",
                "INSERT INTO JunkDB_STL_May2023.rachel.author(first_name, last_name, birth_year, death_year)\n",
                "VALUES ('Beverly', 'Cleary', 1916-04-12, null);\n",
                "\n",
                "INSERT INTO JunkDB_STL_May2023.rachel.author(first_name, last_name, birth_year, death_year)\n",
                "VALUES ('Peter', 'Vollhardt', 1946-03-07, null);\n",
                "\n",
                "INSERT INTO JunkDB_STL_May2023.rachel.author(first_name, last_name, birth_year, death_year)\n",
                "VALUES ('Maya', 'Angelou', 1928-04-04, 2014-05-28);\n",
                "\n",
                "INSERT INTO JunkDB_STL_May2023.rachel.author(first_name, last_name, birth_year, death_year)\n",
                "VALUES ('Toni', 'Morrison', 1931-02-18, 2019-08-05);\n",
                "\n",
                "INSERT INTO JunkDB_STL_May2023.rachel.author(first_name, last_name, birth_year, death_year)\n",
                "VALUES ('Shirley', 'LeFlore', 1940-03-06, 2019-05-12)"
            ],
            "metadata": {
                "azdata_cell_guid": "2f7ea794-a4a0-4b28-ba15-20e07065dc84",
                "language": "sql"
            },
            "outputs": [
                {
                    "output_type": "display_data",
                    "data": {
                        "text/html": "(1 row affected)"
                    },
                    "metadata": {}
                },
                {
                    "output_type": "display_data",
                    "data": {
                        "text/html": "(1 row affected)"
                    },
                    "metadata": {}
                },
                {
                    "output_type": "display_data",
                    "data": {
                        "text/html": "(1 row affected)"
                    },
                    "metadata": {}
                },
                {
                    "output_type": "display_data",
                    "data": {
                        "text/html": "(1 row affected)"
                    },
                    "metadata": {}
                },
                {
                    "output_type": "display_data",
                    "data": {
                        "text/html": "(1 row affected)"
                    },
                    "metadata": {}
                },
                {
                    "output_type": "display_data",
                    "data": {
                        "text/html": "(1 row affected)"
                    },
                    "metadata": {}
                },
                {
                    "output_type": "display_data",
                    "data": {
                        "text/html": "(1 row affected)"
                    },
                    "metadata": {}
                },
                {
                    "output_type": "display_data",
                    "data": {
                        "text/html": "(1 row affected)"
                    },
                    "metadata": {}
                },
                {
                    "output_type": "display_data",
                    "data": {
                        "text/html": "(1 row affected)"
                    },
                    "metadata": {}
                },
                {
                    "output_type": "display_data",
                    "data": {
                        "text/html": "(1 row affected)"
                    },
                    "metadata": {}
                },
                {
                    "output_type": "display_data",
                    "data": {
                        "text/html": "(1 row affected)"
                    },
                    "metadata": {}
                },
                {
                    "output_type": "display_data",
                    "data": {
                        "text/html": "(1 row affected)"
                    },
                    "metadata": {}
                },
                {
                    "output_type": "display_data",
                    "data": {
                        "text/html": "(1 row affected)"
                    },
                    "metadata": {}
                },
                {
                    "output_type": "display_data",
                    "data": {
                        "text/html": "(1 row affected)"
                    },
                    "metadata": {}
                },
                {
                    "output_type": "display_data",
                    "data": {
                        "text/html": "(1 row affected)"
                    },
                    "metadata": {}
                },
                {
                    "output_type": "display_data",
                    "data": {
                        "text/html": "(1 row affected)"
                    },
                    "metadata": {}
                },
                {
                    "output_type": "display_data",
                    "data": {
                        "text/html": "(1 row affected)"
                    },
                    "metadata": {}
                },
                {
                    "output_type": "display_data",
                    "data": {
                        "text/html": "(1 row affected)"
                    },
                    "metadata": {}
                },
                {
                    "output_type": "display_data",
                    "data": {
                        "text/html": "Total execution time: 00:00:00.059"
                    },
                    "metadata": {}
                }
            ],
            "execution_count": 8
        },
        {
            "cell_type": "markdown",
            "source": [
                "### **Patron Table**\n",
                "\n",
                "To create the **patron**, you will use the following code:\n",
                "\n",
                "```\n",
                "CREATE TABLE [DB].[schema].patron (\n",
                "    patron_id INT IDENTITY (1,1) PRIMARY KEY,\n",
                "    first_name VARCHAR(255),\n",
                "    last_name VARCHAR(255),\n",
                "    loan_id INT\n",
                ");\n",
                "```"
            ],
            "metadata": {
                "azdata_cell_guid": "a530aabe-e455-4369-8c06-db0e6001388c"
            },
            "attachments": {}
        },
        {
            "cell_type": "code",
            "source": [
                "-- create the patron table here:\n",
                "CREATE TABLE JunkDB_STL_May2023.rachel.patron (\n",
                "    patron_id INT IDENTITY (1,1) PRIMARY KEY,\n",
                "    first_name VARCHAR(255),\n",
                "    last_name VARCHAR(255),\n",
                "    loan_id INT\n",
                ");"
            ],
            "metadata": {
                "azdata_cell_guid": "864ecf06-5b94-4bcc-b281-6ab9b65a2343",
                "language": "sql"
            },
            "outputs": [
                {
                    "output_type": "display_data",
                    "data": {
                        "text/html": "Commands completed successfully."
                    },
                    "metadata": {}
                },
                {
                    "output_type": "display_data",
                    "data": {
                        "text/html": "Total execution time: 00:00:00.038"
                    },
                    "metadata": {}
                }
            ],
            "execution_count": 9
        },
        {
            "cell_type": "markdown",
            "source": [
                "Populate the **patron** table with the [patron\\_data.ipynb](https://github.com/speudusa/SQL-Part-5-Studio/tree/master/Starter%20Code) notebook."
            ],
            "metadata": {
                "azdata_cell_guid": "48f1e14c-8d2a-458c-8c75-4223fd5344ba"
            },
            "attachments": {}
        },
        {
            "cell_type": "code",
            "source": [
                "-- insert patron data into the table here:\n",
                "INSERT INTO JunkDB_STL_May2023.rachel.patron(first_name, last_name, loan_id)\n",
                "VALUES ('Jennifer', 'Slayny', NULL);\n",
                "\n",
                "INSERT INTO JunkDB_STL_May2023.rachel.patron(first_name, last_name, loan_id)\n",
                "VALUES ('Susan', 'Traviss', NULL);\n",
                "\n",
                "INSERT INTO JunkDB_STL_May2023.rachel.patron(first_name, last_name, loan_id)\n",
                "VALUES ('Vincent', 'Ritelli', NULL);\n",
                "\n",
                "INSERT INTO JunkDB_STL_May2023.rachel.patron(first_name, last_name, loan_id)\n",
                "VALUES ('Tasia', 'Laybourne', NULL);\n",
                "\n",
                "INSERT INTO JunkDB_STL_May2023.rachel.patron(first_name, last_name, loan_id)\n",
                "VALUES ('Wren', 'Gergler', NULL);\n",
                "\n",
                "INSERT INTO JunkDB_STL_May2023.rachel.patron(first_name, last_name, loan_id)\n",
                "VALUES ('Tory', 'Lees', NULL);\n",
                "\n",
                "INSERT INTO JunkDB_STL_May2023.rachel.patron(first_name, last_name, loan_id)\n",
                "VALUES ('Estelle', 'Di Lorio', NULL);\n",
                "\n",
                "INSERT INTO JunkDB_STL_May2023.rachel.patron(first_name, last_name, loan_id)\n",
                "VALUES ('Dorian', 'Betje', NULL);\n",
                "\n",
                "INSERT INTO JunkDB_STL_May2023.rachel.patron(first_name, last_name, loan_id)\n",
                "VALUES ('Frank', 'Jelk', NULL);\n",
                "\n",
                "INSERT INTO JunkDB_STL_May2023.rachel.patron(first_name, last_name, loan_id)\n",
                "VALUES ('Chris', 'Endon', NULL);\n",
                "\n",
                "INSERT INTO JunkDB_STL_May2023.rachel.patron(first_name, last_name, loan_id)\n",
                "VALUES ('Gillie', 'Fritz', NULL);\n",
                "\n",
                "INSERT INTO JunkDB_STL_May2023.rachel.patron(first_name, last_name, loan_id)\n",
                "VALUES ('Leisha', 'Defty', NULL);\n",
                "\n",
                "INSERT INTO JunkDB_STL_May2023.rachel.patron(first_name, last_name, loan_id)\n",
                "VALUES ('Erika', 'Bompass', NULL);\n",
                "\n",
                "INSERT INTO JunkDB_STL_May2023.rachel.patron(first_name, last_name, loan_id)\n",
                "VALUES ('Gabe', 'Moxstead', NULL);\n",
                "\n",
                "INSERT INTO JunkDB_STL_May2023.rachel.patron(first_name, last_name, loan_id)\n",
                "VALUES ('Blake', 'Teresse', NULL);\n",
                "\n",
                "INSERT INTO JunkDB_STL_May2023.rachel.patron(first_name, last_name, loan_id)\n",
                "VALUES ('Joshua', 'Timmouth', NULL);\n",
                "\n",
                "INSERT INTO JunkDB_STL_May2023.rachel.patron(first_name, last_name, loan_id)\n",
                "VALUES ('Tasha', 'Timmouth', NULL);\n",
                "\n",
                "INSERT INTO JunkDB_STL_May2023.rachel.patron(first_name, last_name, loan_id)\n",
                "VALUES ('Neil', 'Davie', NULL);\n",
                "\n",
                "INSERT INTO JunkDB_STL_May2023.rachel.patron(first_name, last_name, loan_id)\n",
                "VALUES ('Emmeline', 'Pitherick', NULL);\n",
                "\n",
                "INSERT INTO JunkDB_STL_May2023.rachel.patron(first_name, last_name, loan_id)\n",
                "VALUES ('Josiah', 'Staner', NULL);\n",
                "\n",
                "INSERT INTO JunkDB_STL_May2023.rachel.patron(first_name, last_name, loan_id)\n",
                "VALUES ('James', 'Greetham', NULL);\n",
                "\n",
                "INSERT INTO JunkDB_STL_May2023.rachel.patron(first_name, last_name, loan_id)\n",
                "VALUES ('Isaac', 'Barstowk', NULL);\n",
                "\n",
                "INSERT INTO JunkDB_STL_May2023.rachel.patron(first_name, last_name, loan_id)\n",
                "VALUES ('Dean', 'Nelane', NULL);\n",
                "\n",
                "INSERT INTO JunkDB_STL_May2023.rachel.patron(first_name, last_name, loan_id)\n",
                "VALUES ('Carolina', 'Cranmere', NULL);\n",
                "\n",
                "INSERT INTO JunkDB_STL_May2023.rachel.patron(first_name, last_name, loan_id)\n",
                "VALUES ('Champ', 'Lardiner', NULL);\n",
                "\n",
                "INSERT INTO JunkDB_STL_May2023.rachel.patron(first_name, last_name, loan_id)\n",
                "VALUES ('Abbie', 'Quaif', NULL);\n",
                "\n",
                "INSERT INTO JunkDB_STL_May2023.rachel.patron(first_name, last_name, loan_id)\n",
                "VALUES ('Camile', 'Milbourne', NULL);\n",
                "\n",
                "INSERT INTO JunkDB_STL_May2023.rachel.patron(first_name, last_name, loan_id)\n",
                "VALUES ('Quentin', 'Crose', NULL);\n",
                "\n",
                "INSERT INTO JunkDB_STL_May2023.rachel.patron(first_name, last_name, loan_id)\n",
                "VALUES ('Silvano', 'Horlick', NULL);\n",
                "\n",
                "INSERT INTO JunkDB_STL_May2023.rachel.patron(first_name, last_name, loan_id)\n",
                "VALUES ('Phyllis', 'Cicchillo', NULL);\n",
                "\n",
                "INSERT INTO JunkDB_STL_May2023.rachel.patron(first_name, last_name, loan_id)\n",
                "VALUES ('Jerrie', 'Brownhall', NULL);\n",
                "\n",
                "INSERT INTO JunkDB_STL_May2023.rachel.patron(first_name, last_name, loan_id)\n",
                "VALUES ('Ludovika', 'Leist', NULL);\n",
                "\n",
                "INSERT INTO JunkDB_STL_May2023.rachel.patron(first_name, last_name, loan_id)\n",
                "VALUES ('Tara', 'Knatt', NULL);\n",
                "\n",
                "INSERT INTO JunkDB_STL_May2023.rachel.patron(first_name, last_name, loan_id)\n",
                "VALUES ('Kelsie', 'Parkson', NULL);\n",
                "\n",
                "INSERT INTO JunkDB_STL_May2023.rachel.patron(first_name, last_name, loan_id)\n",
                "VALUES ('Jodi', 'Leopard', NULL);\n",
                "\n",
                "INSERT INTO JunkDB_STL_May2023.rachel.patron(first_name, last_name, loan_id)\n",
                "VALUES ('Rosanna', 'Cultcheth', NULL);\n",
                "\n",
                "INSERT INTO JunkDB_STL_May2023.rachel.patron(first_name, last_name, loan_id)\n",
                "VALUES ('Remy', 'Fairpool', NULL);\n",
                "\n",
                "INSERT INTO JunkDB_STL_May2023.rachel.patron(first_name, last_name, loan_id)\n",
                "VALUES ('Megan', 'Blyth', NULL);\n",
                "\n",
                "INSERT INTO JunkDB_STL_May2023.rachel.patron(first_name, last_name, loan_id)\n",
                "VALUES ('Rikki', 'McLernon', NULL);\n",
                "\n",
                "INSERT INTO JunkDB_STL_May2023.rachel.patron(first_name, last_name, loan_id)\n",
                "VALUES ('Clare', 'Haacker', NULL);\n",
                "\n",
                "INSERT INTO JunkDB_STL_May2023.rachel.patron(first_name, last_name, loan_id)\n",
                "VALUES ('Vincent', 'Chettle', NULL);\n",
                "\n",
                "INSERT INTO JunkDB_STL_May2023.rachel.patron(first_name, last_name, loan_id)\n",
                "VALUES ('Sybil', 'Costanza', NULL);\n",
                "\n",
                "INSERT INTO JunkDB_STL_May2023.rachel.patron(first_name, last_name, loan_id)\n",
                "VALUES ('Jonas', 'Sinclare', NULL);\n",
                "\n",
                "INSERT INTO JunkDB_STL_May2023.rachel.patron(first_name, last_name, loan_id)\n",
                "VALUES ('Claire', 'Bendel', NULL);\n",
                "\n",
                "INSERT INTO JunkDB_STL_May2023.rachel.patron(first_name, last_name, loan_id)\n",
                "VALUES ('Kathleen', 'Welband', NULL);\n",
                "\n",
                "INSERT INTO JunkDB_STL_May2023.rachel.patron(first_name, last_name, loan_id)\n",
                "VALUES ('Kylie', 'Crannage', NULL);\n",
                "\n",
                "INSERT INTO JunkDB_STL_May2023.rachel.patron(first_name, last_name, loan_id)\n",
                "VALUES ('Evelyn', 'Tarajo', NULL);\n",
                "\n",
                "INSERT INTO JunkDB_STL_May2023.rachel.patron(first_name, last_name, loan_id)\n",
                "VALUES ('Oliver', 'Caulson', NULL);\n",
                ""
            ],
            "metadata": {
                "azdata_cell_guid": "8aa02813-50d7-4c02-9c0f-cf5da207a0b1",
                "tags": [],
                "language": "sql"
            },
            "outputs": [
                {
                    "output_type": "display_data",
                    "data": {
                        "text/html": "(1 row affected)"
                    },
                    "metadata": {}
                },
                {
                    "output_type": "display_data",
                    "data": {
                        "text/html": "(1 row affected)"
                    },
                    "metadata": {}
                },
                {
                    "output_type": "display_data",
                    "data": {
                        "text/html": "(1 row affected)"
                    },
                    "metadata": {}
                },
                {
                    "output_type": "display_data",
                    "data": {
                        "text/html": "(1 row affected)"
                    },
                    "metadata": {}
                },
                {
                    "output_type": "display_data",
                    "data": {
                        "text/html": "(1 row affected)"
                    },
                    "metadata": {}
                },
                {
                    "output_type": "display_data",
                    "data": {
                        "text/html": "(1 row affected)"
                    },
                    "metadata": {}
                },
                {
                    "output_type": "display_data",
                    "data": {
                        "text/html": "(1 row affected)"
                    },
                    "metadata": {}
                },
                {
                    "output_type": "display_data",
                    "data": {
                        "text/html": "(1 row affected)"
                    },
                    "metadata": {}
                },
                {
                    "output_type": "display_data",
                    "data": {
                        "text/html": "(1 row affected)"
                    },
                    "metadata": {}
                },
                {
                    "output_type": "display_data",
                    "data": {
                        "text/html": "(1 row affected)"
                    },
                    "metadata": {}
                },
                {
                    "output_type": "display_data",
                    "data": {
                        "text/html": "(1 row affected)"
                    },
                    "metadata": {}
                },
                {
                    "output_type": "display_data",
                    "data": {
                        "text/html": "(1 row affected)"
                    },
                    "metadata": {}
                },
                {
                    "output_type": "display_data",
                    "data": {
                        "text/html": "(1 row affected)"
                    },
                    "metadata": {}
                },
                {
                    "output_type": "display_data",
                    "data": {
                        "text/html": "(1 row affected)"
                    },
                    "metadata": {}
                },
                {
                    "output_type": "display_data",
                    "data": {
                        "text/html": "(1 row affected)"
                    },
                    "metadata": {}
                },
                {
                    "output_type": "display_data",
                    "data": {
                        "text/html": "(1 row affected)"
                    },
                    "metadata": {}
                },
                {
                    "output_type": "display_data",
                    "data": {
                        "text/html": "(1 row affected)"
                    },
                    "metadata": {}
                },
                {
                    "output_type": "display_data",
                    "data": {
                        "text/html": "(1 row affected)"
                    },
                    "metadata": {}
                },
                {
                    "output_type": "display_data",
                    "data": {
                        "text/html": "(1 row affected)"
                    },
                    "metadata": {}
                },
                {
                    "output_type": "display_data",
                    "data": {
                        "text/html": "(1 row affected)"
                    },
                    "metadata": {}
                },
                {
                    "output_type": "display_data",
                    "data": {
                        "text/html": "(1 row affected)"
                    },
                    "metadata": {}
                },
                {
                    "output_type": "display_data",
                    "data": {
                        "text/html": "(1 row affected)"
                    },
                    "metadata": {}
                },
                {
                    "output_type": "display_data",
                    "data": {
                        "text/html": "(1 row affected)"
                    },
                    "metadata": {}
                },
                {
                    "output_type": "display_data",
                    "data": {
                        "text/html": "(1 row affected)"
                    },
                    "metadata": {}
                },
                {
                    "output_type": "display_data",
                    "data": {
                        "text/html": "(1 row affected)"
                    },
                    "metadata": {}
                },
                {
                    "output_type": "display_data",
                    "data": {
                        "text/html": "(1 row affected)"
                    },
                    "metadata": {}
                },
                {
                    "output_type": "display_data",
                    "data": {
                        "text/html": "(1 row affected)"
                    },
                    "metadata": {}
                },
                {
                    "output_type": "display_data",
                    "data": {
                        "text/html": "(1 row affected)"
                    },
                    "metadata": {}
                },
                {
                    "output_type": "display_data",
                    "data": {
                        "text/html": "(1 row affected)"
                    },
                    "metadata": {}
                },
                {
                    "output_type": "display_data",
                    "data": {
                        "text/html": "(1 row affected)"
                    },
                    "metadata": {}
                },
                {
                    "output_type": "display_data",
                    "data": {
                        "text/html": "(1 row affected)"
                    },
                    "metadata": {}
                },
                {
                    "output_type": "display_data",
                    "data": {
                        "text/html": "(1 row affected)"
                    },
                    "metadata": {}
                },
                {
                    "output_type": "display_data",
                    "data": {
                        "text/html": "(1 row affected)"
                    },
                    "metadata": {}
                },
                {
                    "output_type": "display_data",
                    "data": {
                        "text/html": "(1 row affected)"
                    },
                    "metadata": {}
                },
                {
                    "output_type": "display_data",
                    "data": {
                        "text/html": "(1 row affected)"
                    },
                    "metadata": {}
                },
                {
                    "output_type": "display_data",
                    "data": {
                        "text/html": "(1 row affected)"
                    },
                    "metadata": {}
                },
                {
                    "output_type": "display_data",
                    "data": {
                        "text/html": "(1 row affected)"
                    },
                    "metadata": {}
                },
                {
                    "output_type": "display_data",
                    "data": {
                        "text/html": "(1 row affected)"
                    },
                    "metadata": {}
                },
                {
                    "output_type": "display_data",
                    "data": {
                        "text/html": "(1 row affected)"
                    },
                    "metadata": {}
                },
                {
                    "output_type": "display_data",
                    "data": {
                        "text/html": "(1 row affected)"
                    },
                    "metadata": {}
                },
                {
                    "output_type": "display_data",
                    "data": {
                        "text/html": "(1 row affected)"
                    },
                    "metadata": {}
                },
                {
                    "output_type": "display_data",
                    "data": {
                        "text/html": "(1 row affected)"
                    },
                    "metadata": {}
                },
                {
                    "output_type": "display_data",
                    "data": {
                        "text/html": "(1 row affected)"
                    },
                    "metadata": {}
                },
                {
                    "output_type": "display_data",
                    "data": {
                        "text/html": "(1 row affected)"
                    },
                    "metadata": {}
                },
                {
                    "output_type": "display_data",
                    "data": {
                        "text/html": "(1 row affected)"
                    },
                    "metadata": {}
                },
                {
                    "output_type": "display_data",
                    "data": {
                        "text/html": "(1 row affected)"
                    },
                    "metadata": {}
                },
                {
                    "output_type": "display_data",
                    "data": {
                        "text/html": "(1 row affected)"
                    },
                    "metadata": {}
                },
                {
                    "output_type": "display_data",
                    "data": {
                        "text/html": "(1 row affected)"
                    },
                    "metadata": {}
                },
                {
                    "output_type": "display_data",
                    "data": {
                        "text/html": "Total execution time: 00:00:00.088"
                    },
                    "metadata": {}
                }
            ],
            "execution_count": 10
        },
        {
            "cell_type": "markdown",
            "source": [
                "### **Genre Table**\n",
                "\n",
                "To create the **genre** table, use the following code:\n",
                "\n",
                "```\n",
                "CREATE TABLE [DB].[schema].genre (\n",
                "    genre_id INT PRIMARY KEY,\n",
                "    genres VARCHAR(100)\n",
                ");\n",
                "```"
            ],
            "metadata": {
                "azdata_cell_guid": "d7e74ee6-1ca3-4e79-beb5-04543b03b7cf"
            },
            "attachments": {}
        },
        {
            "cell_type": "code",
            "source": [
                "-- create genre table here:\n",
                "CREATE TABLE JunkDB_STL_May2023.rachel.genre (\n",
                "    genre_id INT PRIMARY KEY,\n",
                "    genres VARCHAR(100)\n",
                ");"
            ],
            "metadata": {
                "azdata_cell_guid": "90f553ee-b7e8-4509-8ac7-bf81c0b42158",
                "language": "sql"
            },
            "outputs": [
                {
                    "output_type": "display_data",
                    "data": {
                        "text/html": "Commands completed successfully."
                    },
                    "metadata": {}
                },
                {
                    "output_type": "display_data",
                    "data": {
                        "text/html": "Total execution time: 00:00:00.035"
                    },
                    "metadata": {}
                }
            ],
            "execution_count": 11
        },
        {
            "cell_type": "markdown",
            "source": [
                "Populate the **genre** table with the [genre\\_data.ipybn](https://github.com/speudusa/SQL-Part-5-Studio/tree/master/Starter%20Code) notebook."
            ],
            "metadata": {
                "azdata_cell_guid": "ed09922e-5d4f-437a-97c6-9bb052839503"
            },
            "attachments": {}
        },
        {
            "cell_type": "code",
            "source": [
                "-- insert the genre data into the table here:\n",
                "INSERT INTO JunkDB_STL_May2023.rachel.genre(genre_id, genres)\n",
                "VALUES (1, 'Fantasy');\n",
                "\n",
                "INSERT INTO JunkDB_STL_May2023.rachel.genre(genre_id, genres)\n",
                "VALUES (2, 'Adventure');\n",
                "\n",
                "INSERT INTO JunkDB_STL_May2023.rachel.genre(genre_id, genres)\n",
                "VALUES (3, 'Romance');\n",
                "\n",
                "INSERT INTO JunkDB_STL_May2023.rachel.genre(genre_id, genres)\n",
                "VALUES (4, 'Contemporary');\n",
                "\n",
                "INSERT INTO JunkDB_STL_May2023.rachel.genre(genre_id, genres)\n",
                "VALUES (5, 'Dystopian');\n",
                "\n",
                "INSERT INTO JunkDB_STL_May2023.rachel.genre(genre_id, genres)\n",
                "VALUES (6, 'Mystery');\n",
                "\n",
                "INSERT INTO JunkDB_STL_May2023.rachel.genre(genre_id, genres)\n",
                "VALUES (7, 'Horror');\n",
                "\n",
                "INSERT INTO JunkDB_STL_May2023.rachel.genre(genre_id, genres)\n",
                "VALUES (8, 'Thriller');\n",
                "\n",
                "INSERT INTO JunkDB_STL_May2023.rachel.genre(genre_id, genres)\n",
                "VALUES (9, 'Paranormal');\n",
                "\n",
                "INSERT INTO JunkDB_STL_May2023.rachel.genre(genre_id, genres)\n",
                "VALUES (10, 'Historical Fiction');\n",
                "\n",
                "INSERT INTO JunkDB_STL_May2023.rachel.genre(genre_id, genres)\n",
                "VALUES (11, 'Science Fiction');\n",
                "\n",
                "INSERT INTO JunkDB_STL_May2023.rachel.genre(genre_id, genres)\n",
                "VALUES (12, 'Memoir');\n",
                "\n",
                "INSERT INTO JunkDB_STL_May2023.rachel.genre(genre_id, genres)\n",
                "VALUES (13, 'Cooking');\n",
                "\n",
                "INSERT INTO JunkDB_STL_May2023.rachel.genre(genre_id, genres)\n",
                "VALUES (14, 'Art');\n",
                "\n",
                "INSERT INTO JunkDB_STL_May2023.rachel.genre(genre_id, genres)\n",
                "VALUES (15, 'Self-Help');\n",
                "\n",
                "INSERT INTO JunkDB_STL_May2023.rachel.genre(genre_id, genres)\n",
                "VALUES (16, 'Development');\n",
                "\n",
                "INSERT INTO JunkDB_STL_May2023.rachel.genre(genre_id, genres)\n",
                "VALUES (17, 'Motivational');\n",
                "\n",
                "INSERT INTO JunkDB_STL_May2023.rachel.genre(genre_id, genres)\n",
                "VALUES (18, 'Health');\n",
                "\n",
                "INSERT INTO JunkDB_STL_May2023.rachel.genre(genre_id, genres)\n",
                "VALUES (19, 'History');\n",
                "\n",
                "INSERT INTO JunkDB_STL_May2023.rachel.genre(genre_id, genres)\n",
                "VALUES (20, 'Travel');\n",
                "\n",
                "INSERT INTO JunkDB_STL_May2023.rachel.genre(genre_id, genres)\n",
                "VALUES (21, 'Guide');\n",
                "\n",
                "INSERT INTO JunkDB_STL_May2023.rachel.genre(genre_id, genres)\n",
                "VALUES (22, 'Families and Relationships');\n",
                "\n",
                "INSERT INTO JunkDB_STL_May2023.rachel.genre(genre_id, genres)\n",
                "VALUES (23, 'Humor');\n",
                "\n",
                "INSERT INTO JunkDB_STL_May2023.rachel.genre(genre_id, genres)\n",
                "VALUES (24, 'Childrens');\n",
                "\n",
                "INSERT INTO JunkDB_STL_May2023.rachel.genre(genre_id, genres)\n",
                "VALUES (25, 'Reference');\n",
                "\n",
                "INSERT INTO JunkDB_STL_May2023.rachel.genre(genre_id, genres)\n",
                "VALUES (26, 'Poetry');"
            ],
            "metadata": {
                "azdata_cell_guid": "d21f25bc-3bc0-4c48-932f-728fdc2c0f1b",
                "language": "sql"
            },
            "outputs": [
                {
                    "output_type": "display_data",
                    "data": {
                        "text/html": "(1 row affected)"
                    },
                    "metadata": {}
                },
                {
                    "output_type": "display_data",
                    "data": {
                        "text/html": "(1 row affected)"
                    },
                    "metadata": {}
                },
                {
                    "output_type": "display_data",
                    "data": {
                        "text/html": "(1 row affected)"
                    },
                    "metadata": {}
                },
                {
                    "output_type": "display_data",
                    "data": {
                        "text/html": "(1 row affected)"
                    },
                    "metadata": {}
                },
                {
                    "output_type": "display_data",
                    "data": {
                        "text/html": "(1 row affected)"
                    },
                    "metadata": {}
                },
                {
                    "output_type": "display_data",
                    "data": {
                        "text/html": "(1 row affected)"
                    },
                    "metadata": {}
                },
                {
                    "output_type": "display_data",
                    "data": {
                        "text/html": "(1 row affected)"
                    },
                    "metadata": {}
                },
                {
                    "output_type": "display_data",
                    "data": {
                        "text/html": "(1 row affected)"
                    },
                    "metadata": {}
                },
                {
                    "output_type": "display_data",
                    "data": {
                        "text/html": "(1 row affected)"
                    },
                    "metadata": {}
                },
                {
                    "output_type": "display_data",
                    "data": {
                        "text/html": "(1 row affected)"
                    },
                    "metadata": {}
                },
                {
                    "output_type": "display_data",
                    "data": {
                        "text/html": "(1 row affected)"
                    },
                    "metadata": {}
                },
                {
                    "output_type": "display_data",
                    "data": {
                        "text/html": "(1 row affected)"
                    },
                    "metadata": {}
                },
                {
                    "output_type": "display_data",
                    "data": {
                        "text/html": "(1 row affected)"
                    },
                    "metadata": {}
                },
                {
                    "output_type": "display_data",
                    "data": {
                        "text/html": "(1 row affected)"
                    },
                    "metadata": {}
                },
                {
                    "output_type": "display_data",
                    "data": {
                        "text/html": "(1 row affected)"
                    },
                    "metadata": {}
                },
                {
                    "output_type": "display_data",
                    "data": {
                        "text/html": "(1 row affected)"
                    },
                    "metadata": {}
                },
                {
                    "output_type": "display_data",
                    "data": {
                        "text/html": "(1 row affected)"
                    },
                    "metadata": {}
                },
                {
                    "output_type": "display_data",
                    "data": {
                        "text/html": "(1 row affected)"
                    },
                    "metadata": {}
                },
                {
                    "output_type": "display_data",
                    "data": {
                        "text/html": "(1 row affected)"
                    },
                    "metadata": {}
                },
                {
                    "output_type": "display_data",
                    "data": {
                        "text/html": "(1 row affected)"
                    },
                    "metadata": {}
                },
                {
                    "output_type": "display_data",
                    "data": {
                        "text/html": "(1 row affected)"
                    },
                    "metadata": {}
                },
                {
                    "output_type": "display_data",
                    "data": {
                        "text/html": "(1 row affected)"
                    },
                    "metadata": {}
                },
                {
                    "output_type": "display_data",
                    "data": {
                        "text/html": "(1 row affected)"
                    },
                    "metadata": {}
                },
                {
                    "output_type": "display_data",
                    "data": {
                        "text/html": "(1 row affected)"
                    },
                    "metadata": {}
                },
                {
                    "output_type": "display_data",
                    "data": {
                        "text/html": "(1 row affected)"
                    },
                    "metadata": {}
                },
                {
                    "output_type": "display_data",
                    "data": {
                        "text/html": "(1 row affected)"
                    },
                    "metadata": {}
                },
                {
                    "output_type": "display_data",
                    "data": {
                        "text/html": "Total execution time: 00:00:00.085"
                    },
                    "metadata": {}
                }
            ],
            "execution_count": 12
        },
        {
            "cell_type": "markdown",
            "source": [
                "### **Loan Table**\n",
                "\n",
                "The **loan** table will be created differently and will stay empty.  We will use our other tables to populate the loan table using queries shortly.  \n",
                "\n",
                "Use the following code to create the **loan** table:\n",
                "\n",
                "```\n",
                "CREATE TABLE [DB].[schema].loan (\n",
                "    loan_id INT IDENTITY(1,1) PRIMARY KEY,\n",
                "    patron_id INT,\n",
                "    date_out DATE,\n",
                "    date_in DATE,\n",
                "    book_id INT\n",
                "    CONSTRAINT book_id FOREIGN KEY (book_id) REFERENCES [DB].[schema].book (book_id)\n",
                "        ON UPDATE SET NULL\n",
                "        ON DELETE SET NULL\n",
                ");\n",
                "```\n",
                "\n",
                "_Notes about the syntax:_\n",
                "\n",
                "> We are adding a [foreign key](https://www.w3schools.com/sql/sql_foreignkey.asp) to this table to reference a different table's primary key.  In this studio, we are going to link the **loan** table to the **book** table using keys.  The **loan** table will reference and add book id numbers based on the **book** table's book\\_id.  We are also providing [constraints](https://www.w3schools.com/sql/sql_constraints.asp) to be very specific about what type of data is allowed in this column."
            ],
            "metadata": {
                "azdata_cell_guid": "111aa17f-6295-4780-b56a-c580951ba446"
            },
            "attachments": {}
        },
        {
            "cell_type": "code",
            "source": [
                "-- Code the loan table.  \n",
                "-- Note that you will need to update the first and seventh lines with your database and schema info.\n",
                "CREATE TABLE JunkDB_STL_May2023.rachel.loan (\n",
                "    loan_id INT IDENTITY(1,1) PRIMARY KEY,\n",
                "    patron_id INT,\n",
                "    date_out DATE,\n",
                "    date_in DATE,\n",
                "    book_id INT\n",
                "    CONSTRAINT book_id FOREIGN KEY (book_id) REFERENCES JunkDB_STL_May2023.rachel.book (book_id)\n",
                "        ON UPDATE SET NULL\n",
                "        ON DELETE SET NULL\n",
                ");"
            ],
            "metadata": {
                "azdata_cell_guid": "0c02072d-832a-44bb-aa28-c8e273cc930a",
                "language": "sql"
            },
            "outputs": [
                {
                    "output_type": "display_data",
                    "data": {
                        "text/html": "Commands completed successfully."
                    },
                    "metadata": {}
                },
                {
                    "output_type": "display_data",
                    "data": {
                        "text/html": "Total execution time: 00:00:00.036"
                    },
                    "metadata": {}
                }
            ],
            "execution_count": 14
        },
        {
            "cell_type": "markdown",
            "source": [
                ""
            ],
            "metadata": {
                "azdata_cell_guid": "7b8490ca-1d4f-4beb-837d-7ef1ee681865"
            },
            "attachments": {}
        },
        {
            "cell_type": "markdown",
            "source": [
                "## **Part B: Warm-Up Queries**\n",
                "\n",
                "Write the following queries to get warmed up and make sure your tables have populated appropriately. \n",
                "\n",
                "1. Return the mystery book titles and their ISBNs.  \n",
                "      \n",
                "    \n",
                "2. Return all of the titles and the author's first and last names for books written by authors who are currently living."
            ],
            "metadata": {
                "azdata_cell_guid": "c52719ab-94f3-4eff-97fa-1f928892ef3b"
            },
            "attachments": {}
        },
        {
            "cell_type": "code",
            "source": [
                "--Code your warm ups here:\n",
                "SELECT b.title, b.isbn\n",
                "FROM JunkDB_STL_May2023.rachel.book as b\n",
                "JOIN JunkDB_STL_May2023.rachel.genre as g\n",
                "ON b.genre_id = g.genre_id\n",
                "WHERE g.genres = 'Mystery'"
            ],
            "metadata": {
                "azdata_cell_guid": "95590c74-e772-4e0e-b35d-346409d9d4c0",
                "language": "sql"
            },
            "outputs": [
                {
                    "output_type": "display_data",
                    "data": {
                        "text/html": "(8 rows affected)"
                    },
                    "metadata": {}
                },
                {
                    "output_type": "display_data",
                    "data": {
                        "text/html": "Total execution time: 00:00:00.050"
                    },
                    "metadata": {}
                },
                {
                    "output_type": "execute_result",
                    "metadata": {},
                    "execution_count": 22,
                    "data": {
                        "application/vnd.dataresource+json": {
                            "schema": {
                                "fields": [
                                    {
                                        "name": "title"
                                    },
                                    {
                                        "name": "isbn"
                                    }
                                ]
                            },
                            "data": [
                                {
                                    "title": "And Then There Were None",
                                    "isbn": "335973357"
                                },
                                {
                                    "title": "Still Life",
                                    "isbn": "455128657"
                                },
                                {
                                    "title": "A Fatal Grace",
                                    "isbn": "832517012"
                                },
                                {
                                    "title": "The Cruelest Month",
                                    "isbn": "419285319"
                                },
                                {
                                    "title": "The Murder Stone",
                                    "isbn": "656621400"
                                },
                                {
                                    "title": "The Brutal Telling",
                                    "isbn": "144255852"
                                },
                                {
                                    "title": "Bury Your Dead",
                                    "isbn": "208180961"
                                },
                                {
                                    "title": "A Trick of the Light",
                                    "isbn": "93451531"
                                }
                            ]
                        },
                        "text/html": [
                            "<table>",
                            "<tr><th>title</th><th>isbn</th></tr>",
                            "<tr><td>And Then There Were None</td><td>335973357</td></tr>",
                            "<tr><td>Still Life</td><td>455128657</td></tr>",
                            "<tr><td>A Fatal Grace</td><td>832517012</td></tr>",
                            "<tr><td>The Cruelest Month</td><td>419285319</td></tr>",
                            "<tr><td>The Murder Stone</td><td>656621400</td></tr>",
                            "<tr><td>The Brutal Telling</td><td>144255852</td></tr>",
                            "<tr><td>Bury Your Dead</td><td>208180961</td></tr>",
                            "<tr><td>A Trick of the Light</td><td>93451531</td></tr>",
                            "</table>"
                        ]
                    }
                }
            ],
            "execution_count": 22
        },
        {
            "cell_type": "code",
            "source": [
                "SELECT DISTINCT(genres) FROM JunkDB_STL_May2023.rachel.genre"
            ],
            "metadata": {
                "language": "sql",
                "azdata_cell_guid": "5acd02c3-9c65-4f1e-9a5c-6f901a393d43"
            },
            "outputs": [
                {
                    "output_type": "display_data",
                    "data": {
                        "text/html": "(26 rows affected)"
                    },
                    "metadata": {}
                },
                {
                    "output_type": "display_data",
                    "data": {
                        "text/html": "Total execution time: 00:00:00.048"
                    },
                    "metadata": {}
                },
                {
                    "output_type": "execute_result",
                    "metadata": {},
                    "execution_count": 19,
                    "data": {
                        "application/vnd.dataresource+json": {
                            "schema": {
                                "fields": [
                                    {
                                        "name": "genres"
                                    }
                                ]
                            },
                            "data": [
                                {
                                    "genres": "Adventure"
                                },
                                {
                                    "genres": "Art"
                                },
                                {
                                    "genres": "Childrens"
                                },
                                {
                                    "genres": "Contemporary"
                                },
                                {
                                    "genres": "Cooking"
                                },
                                {
                                    "genres": "Development"
                                },
                                {
                                    "genres": "Dystopian"
                                },
                                {
                                    "genres": "Families and Relationships"
                                },
                                {
                                    "genres": "Fantasy"
                                },
                                {
                                    "genres": "Guide"
                                },
                                {
                                    "genres": "Health"
                                },
                                {
                                    "genres": "Historical Fiction"
                                },
                                {
                                    "genres": "History"
                                },
                                {
                                    "genres": "Horror"
                                },
                                {
                                    "genres": "Humor"
                                },
                                {
                                    "genres": "Memoir"
                                },
                                {
                                    "genres": "Motivational"
                                },
                                {
                                    "genres": "Mystery"
                                },
                                {
                                    "genres": "Paranormal"
                                },
                                {
                                    "genres": "Poetry"
                                },
                                {
                                    "genres": "Reference"
                                },
                                {
                                    "genres": "Romance"
                                },
                                {
                                    "genres": "Science Fiction"
                                },
                                {
                                    "genres": "Self-Help"
                                },
                                {
                                    "genres": "Thriller"
                                },
                                {
                                    "genres": "Travel"
                                }
                            ]
                        },
                        "text/html": [
                            "<table>",
                            "<tr><th>genres</th></tr>",
                            "<tr><td>Adventure</td></tr>",
                            "<tr><td>Art</td></tr>",
                            "<tr><td>Childrens</td></tr>",
                            "<tr><td>Contemporary</td></tr>",
                            "<tr><td>Cooking</td></tr>",
                            "<tr><td>Development</td></tr>",
                            "<tr><td>Dystopian</td></tr>",
                            "<tr><td>Families and Relationships</td></tr>",
                            "<tr><td>Fantasy</td></tr>",
                            "<tr><td>Guide</td></tr>",
                            "<tr><td>Health</td></tr>",
                            "<tr><td>Historical Fiction</td></tr>",
                            "<tr><td>History</td></tr>",
                            "<tr><td>Horror</td></tr>",
                            "<tr><td>Humor</td></tr>",
                            "<tr><td>Memoir</td></tr>",
                            "<tr><td>Motivational</td></tr>",
                            "<tr><td>Mystery</td></tr>",
                            "<tr><td>Paranormal</td></tr>",
                            "<tr><td>Poetry</td></tr>",
                            "<tr><td>Reference</td></tr>",
                            "<tr><td>Romance</td></tr>",
                            "<tr><td>Science Fiction</td></tr>",
                            "<tr><td>Self-Help</td></tr>",
                            "<tr><td>Thriller</td></tr>",
                            "<tr><td>Travel</td></tr>",
                            "</table>"
                        ]
                    }
                }
            ],
            "execution_count": 19
        },
        {
            "cell_type": "code",
            "source": [
                "-- Return all of the titles and the author's first and last names for books written by authors who are currently living.\n",
                "SELECT b.title, a.first_name, a.last_name\n",
                "FROM JunkDB_STL_May2023.rachel.book AS b\n",
                "JOIN JunkDB_STL_May2023.rachel.author AS a\n",
                "ON b.author_id = a.author_id\n",
                "WHERE a.death_year IS NULL"
            ],
            "metadata": {
                "language": "sql",
                "azdata_cell_guid": "1b91e565-a832-4675-91c0-b3af732a93e5"
            },
            "outputs": [
                {
                    "output_type": "display_data",
                    "data": {
                        "text/html": "(19 rows affected)"
                    },
                    "metadata": {}
                },
                {
                    "output_type": "display_data",
                    "data": {
                        "text/html": "Total execution time: 00:00:00.051"
                    },
                    "metadata": {}
                },
                {
                    "output_type": "execute_result",
                    "metadata": {},
                    "execution_count": 24,
                    "data": {
                        "application/vnd.dataresource+json": {
                            "schema": {
                                "fields": [
                                    {
                                        "name": "title"
                                    },
                                    {
                                        "name": "first_name"
                                    },
                                    {
                                        "name": "last_name"
                                    }
                                ]
                            },
                            "data": [
                                {
                                    "title": "The Golden Compass",
                                    "first_name": "Phillip",
                                    "last_name": "Pullman"
                                },
                                {
                                    "title": "The Subtle Knife",
                                    "first_name": "Phillip",
                                    "last_name": "Pullman"
                                },
                                {
                                    "title": "The Amber Spyglass",
                                    "first_name": "Phillip",
                                    "last_name": "Pullman"
                                },
                                {
                                    "title": "The Alchemist",
                                    "first_name": "Paulo",
                                    "last_name": "Coelho"
                                },
                                {
                                    "title": "The Joy Luck Club",
                                    "first_name": "Amy",
                                    "last_name": "Tan"
                                },
                                {
                                    "title": "The Moon Lady",
                                    "first_name": "Amy",
                                    "last_name": "Tan"
                                },
                                {
                                    "title": "The Handmaids Tale",
                                    "first_name": "Margaret",
                                    "last_name": "Atwood"
                                },
                                {
                                    "title": "The Testaments",
                                    "first_name": "Margaret",
                                    "last_name": "Atwood"
                                },
                                {
                                    "title": "Still Life",
                                    "first_name": "Louise",
                                    "last_name": "Penny"
                                },
                                {
                                    "title": "A Fatal Grace",
                                    "first_name": "Louise",
                                    "last_name": "Penny"
                                },
                                {
                                    "title": "The Cruelest Month",
                                    "first_name": "Louise",
                                    "last_name": "Penny"
                                },
                                {
                                    "title": "The Murder Stone",
                                    "first_name": "Louise",
                                    "last_name": "Penny"
                                },
                                {
                                    "title": "The Brutal Telling",
                                    "first_name": "Louise",
                                    "last_name": "Penny"
                                },
                                {
                                    "title": "Bury Your Dead",
                                    "first_name": "Louise",
                                    "last_name": "Penny"
                                },
                                {
                                    "title": "A Trick of the Light",
                                    "first_name": "Louise",
                                    "last_name": "Penny"
                                },
                                {
                                    "title": "Midnights Children",
                                    "first_name": "Salman",
                                    "last_name": "Rushdie"
                                },
                                {
                                    "title": "Dont Let the Pigeon Drive the Bus!",
                                    "first_name": "Mo",
                                    "last_name": "Willems"
                                },
                                {
                                    "title": "Beezus and Ramona",
                                    "first_name": "Beverly",
                                    "last_name": "Cleary"
                                },
                                {
                                    "title": "Organic Chemistry",
                                    "first_name": "Peter",
                                    "last_name": "Vollhardt"
                                }
                            ]
                        },
                        "text/html": [
                            "<table>",
                            "<tr><th>title</th><th>first_name</th><th>last_name</th></tr>",
                            "<tr><td>The Golden Compass</td><td>Phillip</td><td>Pullman</td></tr>",
                            "<tr><td>The Subtle Knife</td><td>Phillip</td><td>Pullman</td></tr>",
                            "<tr><td>The Amber Spyglass</td><td>Phillip</td><td>Pullman</td></tr>",
                            "<tr><td>The Alchemist</td><td>Paulo</td><td>Coelho</td></tr>",
                            "<tr><td>The Joy Luck Club</td><td>Amy</td><td>Tan</td></tr>",
                            "<tr><td>The Moon Lady</td><td>Amy</td><td>Tan</td></tr>",
                            "<tr><td>The Handmaids Tale</td><td>Margaret</td><td>Atwood</td></tr>",
                            "<tr><td>The Testaments</td><td>Margaret</td><td>Atwood</td></tr>",
                            "<tr><td>Still Life</td><td>Louise</td><td>Penny</td></tr>",
                            "<tr><td>A Fatal Grace</td><td>Louise</td><td>Penny</td></tr>",
                            "<tr><td>The Cruelest Month</td><td>Louise</td><td>Penny</td></tr>",
                            "<tr><td>The Murder Stone</td><td>Louise</td><td>Penny</td></tr>",
                            "<tr><td>The Brutal Telling</td><td>Louise</td><td>Penny</td></tr>",
                            "<tr><td>Bury Your Dead</td><td>Louise</td><td>Penny</td></tr>",
                            "<tr><td>A Trick of the Light</td><td>Louise</td><td>Penny</td></tr>",
                            "<tr><td>Midnights Children</td><td>Salman</td><td>Rushdie</td></tr>",
                            "<tr><td>Dont Let the Pigeon Drive the Bus!</td><td>Mo</td><td>Willems</td></tr>",
                            "<tr><td>Beezus and Ramona</td><td>Beverly</td><td>Cleary</td></tr>",
                            "<tr><td>Organic Chemistry</td><td>Peter</td><td>Vollhardt</td></tr>",
                            "</table>"
                        ]
                    }
                }
            ],
            "execution_count": 24
        },
        {
            "cell_type": "markdown",
            "source": [
                "## **Part C: Loan Out a Book**\n",
                "\n",
                "The library would like you to create a query that will update the database when a book is loaned out.  \n",
                "\n",
                "This query needs to perform the following functions:\n",
                "\n",
                "1. Change **available** to **0** (false) for the appropriate book.\n",
                "    \n",
                "2. Add a new row to the **loan** table with today's date as the **date\\_out** and the ids in the row matching the appropriate **patron\\_id** and **book\\_id**.\n",
                "    \n",
                "3. Update the appropriate **patron** with the **loan\\_id** for the new row created in the **loan** table.\n",
                "    \n",
                "\n",
                "You can use any patron and book that strikes your fancy to create and test out this query.'\n",
                "\n",
                "> _Note:  Every time you test this, you will add an additional row to the output, creating a new loan id each time.  If you do not update the patron id, then a patron will have multiple loan ids.  This is not an issue for Part C;_ _however, this may cause issues when you work on Part F._"
            ],
            "metadata": {
                "azdata_cell_guid": "89fcab58-413b-4a19-99f2-6c3a7f880f9f"
            },
            "attachments": {}
        },
        {
            "cell_type": "code",
            "source": [
                "SELECT TOP 5 * FROM JunkDB_STL_May2023.rachel.loan"
            ],
            "metadata": {
                "language": "sql",
                "azdata_cell_guid": "2430c68c-9ab4-4a4e-8ac7-f76f1672729d"
            },
            "outputs": [
                {
                    "output_type": "display_data",
                    "data": {
                        "text/html": "(3 rows affected)"
                    },
                    "metadata": {}
                },
                {
                    "output_type": "display_data",
                    "data": {
                        "text/html": "Total execution time: 00:00:00.040"
                    },
                    "metadata": {}
                },
                {
                    "output_type": "execute_result",
                    "metadata": {},
                    "execution_count": 55,
                    "data": {
                        "application/vnd.dataresource+json": {
                            "schema": {
                                "fields": [
                                    {
                                        "name": "loan_id"
                                    },
                                    {
                                        "name": "patron_id"
                                    },
                                    {
                                        "name": "date_out"
                                    },
                                    {
                                        "name": "date_in"
                                    },
                                    {
                                        "name": "book_id"
                                    }
                                ]
                            },
                            "data": [
                                {
                                    "loan_id": "4",
                                    "patron_id": "4",
                                    "date_out": "2023-08-23",
                                    "date_in": "NULL",
                                    "book_id": "4"
                                },
                                {
                                    "loan_id": "5",
                                    "patron_id": "5",
                                    "date_out": "2023-08-23",
                                    "date_in": "NULL",
                                    "book_id": "6"
                                },
                                {
                                    "loan_id": "6",
                                    "patron_id": "20",
                                    "date_out": "2023-08-23",
                                    "date_in": "NULL",
                                    "book_id": "1"
                                }
                            ]
                        },
                        "text/html": [
                            "<table>",
                            "<tr><th>loan_id</th><th>patron_id</th><th>date_out</th><th>date_in</th><th>book_id</th></tr>",
                            "<tr><td>4</td><td>4</td><td>2023-08-23</td><td>NULL</td><td>4</td></tr>",
                            "<tr><td>5</td><td>5</td><td>2023-08-23</td><td>NULL</td><td>6</td></tr>",
                            "<tr><td>6</td><td>20</td><td>2023-08-23</td><td>NULL</td><td>1</td></tr>",
                            "</table>"
                        ]
                    }
                }
            ],
            "execution_count": 55
        },
        {
            "cell_type": "code",
            "source": [
                "-- Create your query that will Loan Out a Book:\n",
                "\n",
                "-- Change available to 0 (false) for the appropriate book.\n",
                "UPDATE JunkDB_STL_May2023.rachel.book\n",
                "SET available = 0\n",
                "WHERE book_id = 1;\n",
                "\n",
                "-- Add a new row to the loan table with today's date as the date_out and the ids in the row matching the appropriate patron_id \n",
                "-- and book_id.\n",
                "INSERT INTO JunkDB_STL_May2023.rachel.loan (date_out, patron_id, book_id)\n",
                "VALUES (GETDATE(), 20, 1);\n",
                "\n",
                "-- Update the appropriate patron with the loan_id for the new row created in the loan table.\n",
                "UPDATE JunkDB_STL_May2023.rachel.patron\n",
                "SET JunkDB_STL_May2023.rachel.patron.loan_id =  (SELECT JunkDB_STL_May2023.rachel.loan.loan_id \n",
                "                                                FROM JunkDB_STL_May2023.rachel.loan \n",
                "                                                WHERE JunkDB_STL_May2023.rachel.loan.patron_id = JunkDB_STL_May2023.rachel.patron.patron_id)\n",
                "\n",
                ""
            ],
            "metadata": {
                "azdata_cell_guid": "372104fd-303e-4be3-8b85-d4e4902fe9d9",
                "language": "sql"
            },
            "outputs": [
                {
                    "output_type": "display_data",
                    "data": {
                        "text/html": "(1 row affected)"
                    },
                    "metadata": {}
                },
                {
                    "output_type": "display_data",
                    "data": {
                        "text/html": "(1 row affected)"
                    },
                    "metadata": {}
                },
                {
                    "output_type": "display_data",
                    "data": {
                        "text/html": "(48 rows affected)"
                    },
                    "metadata": {}
                },
                {
                    "output_type": "display_data",
                    "data": {
                        "text/html": "Total execution time: 00:00:00.045"
                    },
                    "metadata": {}
                }
            ],
            "execution_count": 54
        },
        {
            "cell_type": "code",
            "source": [
                "SELECT TOP 5 * FROM JunkDB_STL_May2023.rachel.loan"
            ],
            "metadata": {
                "language": "sql",
                "azdata_cell_guid": "d0c3df51-ae98-4cf3-857c-61edeb99cbaf"
            },
            "outputs": [
                {
                    "output_type": "display_data",
                    "data": {
                        "text/html": "(3 rows affected)"
                    },
                    "metadata": {}
                },
                {
                    "output_type": "display_data",
                    "data": {
                        "text/html": "Total execution time: 00:00:00.046"
                    },
                    "metadata": {}
                },
                {
                    "output_type": "execute_result",
                    "metadata": {},
                    "execution_count": 57,
                    "data": {
                        "application/vnd.dataresource+json": {
                            "schema": {
                                "fields": [
                                    {
                                        "name": "loan_id"
                                    },
                                    {
                                        "name": "patron_id"
                                    },
                                    {
                                        "name": "date_out"
                                    },
                                    {
                                        "name": "date_in"
                                    },
                                    {
                                        "name": "book_id"
                                    }
                                ]
                            },
                            "data": [
                                {
                                    "loan_id": "4",
                                    "patron_id": "4",
                                    "date_out": "2023-08-23",
                                    "date_in": "NULL",
                                    "book_id": "4"
                                },
                                {
                                    "loan_id": "5",
                                    "patron_id": "5",
                                    "date_out": "2023-08-23",
                                    "date_in": "NULL",
                                    "book_id": "6"
                                },
                                {
                                    "loan_id": "6",
                                    "patron_id": "20",
                                    "date_out": "2023-08-23",
                                    "date_in": "NULL",
                                    "book_id": "1"
                                }
                            ]
                        },
                        "text/html": [
                            "<table>",
                            "<tr><th>loan_id</th><th>patron_id</th><th>date_out</th><th>date_in</th><th>book_id</th></tr>",
                            "<tr><td>4</td><td>4</td><td>2023-08-23</td><td>NULL</td><td>4</td></tr>",
                            "<tr><td>5</td><td>5</td><td>2023-08-23</td><td>NULL</td><td>6</td></tr>",
                            "<tr><td>6</td><td>20</td><td>2023-08-23</td><td>NULL</td><td>1</td></tr>",
                            "</table>"
                        ]
                    }
                }
            ],
            "execution_count": 57
        },
        {
            "cell_type": "code",
            "source": [
                "SELECT TOP 20 * FROM JunkDB_STL_May2023.rachel.patron"
            ],
            "metadata": {
                "language": "sql",
                "azdata_cell_guid": "d9d63936-783f-49a0-aa02-7735880bf9db"
            },
            "outputs": [
                {
                    "output_type": "display_data",
                    "data": {
                        "text/html": "(20 rows affected)"
                    },
                    "metadata": {}
                },
                {
                    "output_type": "display_data",
                    "data": {
                        "text/html": "Total execution time: 00:00:00.041"
                    },
                    "metadata": {}
                },
                {
                    "output_type": "execute_result",
                    "metadata": {},
                    "execution_count": 59,
                    "data": {
                        "application/vnd.dataresource+json": {
                            "schema": {
                                "fields": [
                                    {
                                        "name": "patron_id"
                                    },
                                    {
                                        "name": "first_name"
                                    },
                                    {
                                        "name": "last_name"
                                    },
                                    {
                                        "name": "loan_id"
                                    }
                                ]
                            },
                            "data": [
                                {
                                    "patron_id": "1",
                                    "first_name": "Jennifer",
                                    "last_name": "Slayny",
                                    "loan_id": "NULL"
                                },
                                {
                                    "patron_id": "2",
                                    "first_name": "Susan",
                                    "last_name": "Traviss",
                                    "loan_id": "NULL"
                                },
                                {
                                    "patron_id": "3",
                                    "first_name": "Vincent",
                                    "last_name": "Ritelli",
                                    "loan_id": "NULL"
                                },
                                {
                                    "patron_id": "4",
                                    "first_name": "Tasia",
                                    "last_name": "Laybourne",
                                    "loan_id": "4"
                                },
                                {
                                    "patron_id": "5",
                                    "first_name": "Wren",
                                    "last_name": "Gergler",
                                    "loan_id": "5"
                                },
                                {
                                    "patron_id": "6",
                                    "first_name": "Tory",
                                    "last_name": "Lees",
                                    "loan_id": "NULL"
                                },
                                {
                                    "patron_id": "7",
                                    "first_name": "Estelle",
                                    "last_name": "Di Lorio",
                                    "loan_id": "NULL"
                                },
                                {
                                    "patron_id": "8",
                                    "first_name": "Dorian",
                                    "last_name": "Betje",
                                    "loan_id": "NULL"
                                },
                                {
                                    "patron_id": "9",
                                    "first_name": "Frank",
                                    "last_name": "Jelk",
                                    "loan_id": "NULL"
                                },
                                {
                                    "patron_id": "10",
                                    "first_name": "Chris",
                                    "last_name": "Endon",
                                    "loan_id": "NULL"
                                },
                                {
                                    "patron_id": "11",
                                    "first_name": "Gillie",
                                    "last_name": "Fritz",
                                    "loan_id": "NULL"
                                },
                                {
                                    "patron_id": "12",
                                    "first_name": "Leisha",
                                    "last_name": "Defty",
                                    "loan_id": "NULL"
                                },
                                {
                                    "patron_id": "13",
                                    "first_name": "Erika",
                                    "last_name": "Bompass",
                                    "loan_id": "NULL"
                                },
                                {
                                    "patron_id": "14",
                                    "first_name": "Gabe",
                                    "last_name": "Moxstead",
                                    "loan_id": "NULL"
                                },
                                {
                                    "patron_id": "15",
                                    "first_name": "Blake",
                                    "last_name": "Teresse",
                                    "loan_id": "NULL"
                                },
                                {
                                    "patron_id": "16",
                                    "first_name": "Joshua",
                                    "last_name": "Timmouth",
                                    "loan_id": "NULL"
                                },
                                {
                                    "patron_id": "17",
                                    "first_name": "Tasha",
                                    "last_name": "Timmouth",
                                    "loan_id": "NULL"
                                },
                                {
                                    "patron_id": "18",
                                    "first_name": "Neil",
                                    "last_name": "Davie",
                                    "loan_id": "NULL"
                                },
                                {
                                    "patron_id": "19",
                                    "first_name": "Emmeline",
                                    "last_name": "Pitherick",
                                    "loan_id": "NULL"
                                },
                                {
                                    "patron_id": "20",
                                    "first_name": "Josiah",
                                    "last_name": "Staner",
                                    "loan_id": "6"
                                }
                            ]
                        },
                        "text/html": [
                            "<table>",
                            "<tr><th>patron_id</th><th>first_name</th><th>last_name</th><th>loan_id</th></tr>",
                            "<tr><td>1</td><td>Jennifer</td><td>Slayny</td><td>NULL</td></tr>",
                            "<tr><td>2</td><td>Susan</td><td>Traviss</td><td>NULL</td></tr>",
                            "<tr><td>3</td><td>Vincent</td><td>Ritelli</td><td>NULL</td></tr>",
                            "<tr><td>4</td><td>Tasia</td><td>Laybourne</td><td>4</td></tr>",
                            "<tr><td>5</td><td>Wren</td><td>Gergler</td><td>5</td></tr>",
                            "<tr><td>6</td><td>Tory</td><td>Lees</td><td>NULL</td></tr>",
                            "<tr><td>7</td><td>Estelle</td><td>Di Lorio</td><td>NULL</td></tr>",
                            "<tr><td>8</td><td>Dorian</td><td>Betje</td><td>NULL</td></tr>",
                            "<tr><td>9</td><td>Frank</td><td>Jelk</td><td>NULL</td></tr>",
                            "<tr><td>10</td><td>Chris</td><td>Endon</td><td>NULL</td></tr>",
                            "<tr><td>11</td><td>Gillie</td><td>Fritz</td><td>NULL</td></tr>",
                            "<tr><td>12</td><td>Leisha</td><td>Defty</td><td>NULL</td></tr>",
                            "<tr><td>13</td><td>Erika</td><td>Bompass</td><td>NULL</td></tr>",
                            "<tr><td>14</td><td>Gabe</td><td>Moxstead</td><td>NULL</td></tr>",
                            "<tr><td>15</td><td>Blake</td><td>Teresse</td><td>NULL</td></tr>",
                            "<tr><td>16</td><td>Joshua</td><td>Timmouth</td><td>NULL</td></tr>",
                            "<tr><td>17</td><td>Tasha</td><td>Timmouth</td><td>NULL</td></tr>",
                            "<tr><td>18</td><td>Neil</td><td>Davie</td><td>NULL</td></tr>",
                            "<tr><td>19</td><td>Emmeline</td><td>Pitherick</td><td>NULL</td></tr>",
                            "<tr><td>20</td><td>Josiah</td><td>Staner</td><td>6</td></tr>",
                            "</table>"
                        ]
                    }
                }
            ],
            "execution_count": 59
        },
        {
            "cell_type": "code",
            "source": [
                "DELETE FROM JunkDB_STL_May2023.rachel.loan;"
            ],
            "metadata": {
                "language": "sql",
                "azdata_cell_guid": "a9edd838-aaba-446a-a519-d1c645634335"
            },
            "outputs": [
                {
                    "output_type": "display_data",
                    "data": {
                        "text/html": "(3 rows affected)"
                    },
                    "metadata": {}
                },
                {
                    "output_type": "display_data",
                    "data": {
                        "text/html": "Total execution time: 00:00:00.042"
                    },
                    "metadata": {}
                }
            ],
            "execution_count": 60
        },
        {
            "cell_type": "markdown",
            "source": [
                "## **Part D: Check a Book Back In**\n",
                "\n",
                "Work with the same patron and book as you create your query to check a book back into the library.\n",
                "\n",
                "The check a book back in, your query need to do the following:\n",
                "\n",
                "1. Change **available** to **1** (true) for the appropriate book.\n",
                "    \n",
                "2. Update the appropriate row in the **loan** table with today's date as the **date\\_in**.\n",
                "    \n",
                "3. Update the appropriate **patron** changing **loan\\_id** back to **NULL**.\n",
                "    \n",
                "\n",
                "Once you have created these queries, loan out 5 new books to 5 different patrons."
            ],
            "metadata": {
                "azdata_cell_guid": "21923b69-f92c-4f86-af0a-230df894c696"
            },
            "attachments": {}
        },
        {
            "cell_type": "code",
            "source": [
                "-- Create your Check a Book Back In query:\n",
                "-- Change available to 1 for the appropriate book.\n",
                "UPDATE JunkDB_STL_May2023.rachel.book\n",
                "SET available = 1\n",
                "WHERE book_id = 4;\n",
                "\n",
                "-- Update the appropriate row in the loan table with today's date as the date_in.\n",
                "INSERT INTO JunkDB_STL_May2023.rachel.loan (date_in)\n",
                "VALUES (GETDATE());\n",
                "\n",
                "-- Update the appropriate patron changing loan_id to NULL\n",
                "UPDATE JunkDB_STL_May2023.rachel.patron\n",
                "SET JunkDB_STL_May2023.rachel.patron.loan_id = NULL\n",
                "WHERE JunkDB_STL_May2023.rachel.patron.patron_id = 20\n",
                ""
            ],
            "metadata": {
                "azdata_cell_guid": "80a81994-48b8-4b9e-a09c-5124e3fc85b2",
                "language": "sql"
            },
            "outputs": [
                {
                    "output_type": "display_data",
                    "data": {
                        "text/html": "(1 row affected)"
                    },
                    "metadata": {}
                },
                {
                    "output_type": "display_data",
                    "data": {
                        "text/html": "(1 row affected)"
                    },
                    "metadata": {}
                },
                {
                    "output_type": "display_data",
                    "data": {
                        "text/html": "(1 row affected)"
                    },
                    "metadata": {}
                },
                {
                    "output_type": "display_data",
                    "data": {
                        "text/html": "Total execution time: 00:00:00.047"
                    },
                    "metadata": {}
                }
            ],
            "execution_count": 63
        },
        {
            "cell_type": "code",
            "source": [
                "SELECT TOP 5 * FROM JunkDB_STL_May2023.rachel.loan"
            ],
            "metadata": {
                "language": "sql",
                "azdata_cell_guid": "9a01636b-d84c-4147-afb1-96f449f4758a"
            },
            "outputs": [
                {
                    "output_type": "display_data",
                    "data": {
                        "text/html": "(1 row affected)"
                    },
                    "metadata": {}
                },
                {
                    "output_type": "display_data",
                    "data": {
                        "text/html": "Total execution time: 00:00:00.043"
                    },
                    "metadata": {}
                },
                {
                    "output_type": "execute_result",
                    "metadata": {},
                    "execution_count": 64,
                    "data": {
                        "application/vnd.dataresource+json": {
                            "schema": {
                                "fields": [
                                    {
                                        "name": "loan_id"
                                    },
                                    {
                                        "name": "patron_id"
                                    },
                                    {
                                        "name": "date_out"
                                    },
                                    {
                                        "name": "date_in"
                                    },
                                    {
                                        "name": "book_id"
                                    }
                                ]
                            },
                            "data": [
                                {
                                    "loan_id": "7",
                                    "patron_id": "NULL",
                                    "date_out": "NULL",
                                    "date_in": "2023-08-23",
                                    "book_id": "NULL"
                                }
                            ]
                        },
                        "text/html": [
                            "<table>",
                            "<tr><th>loan_id</th><th>patron_id</th><th>date_out</th><th>date_in</th><th>book_id</th></tr>",
                            "<tr><td>7</td><td>NULL</td><td>NULL</td><td>2023-08-23</td><td>NULL</td></tr>",
                            "</table>"
                        ]
                    }
                }
            ],
            "execution_count": 64
        },
        {
            "cell_type": "markdown",
            "source": [
                "## **Part E: Create a temp table**\n",
                "\n",
                "Write a query that returns a temporary table for a patron that shows them all of their loans.\n",
                "\n",
                "_Question to think about:_  Why might a temp table be a good option for this type of query?"
            ],
            "metadata": {
                "azdata_cell_guid": "66e2b5be-ddbf-44db-a903-2c2f08db02d3"
            },
            "attachments": {}
        },
        {
            "cell_type": "code",
            "source": [
                "-- Code your temp table here\n",
                "USE JunkDB_STL_May2023;\n",
                "\n",
                "SELECT patron_id, book_id, date_out\n",
                "INTO #PatronLoans\n",
                "FROM JunkDB_STL_May2023.rachel.loan\n",
                "WHERE date_in IS NULL AND patron_id = 20"
            ],
            "metadata": {
                "azdata_cell_guid": "0977ab8b-f0dd-42e5-aed8-79b511dda8bc",
                "language": "sql"
            },
            "outputs": [
                {
                    "output_type": "display_data",
                    "data": {
                        "text/html": "(0 rows affected)"
                    },
                    "metadata": {}
                },
                {
                    "output_type": "display_data",
                    "data": {
                        "text/html": "Total execution time: 00:00:00.046"
                    },
                    "metadata": {}
                }
            ],
            "execution_count": 67
        },
        {
            "cell_type": "markdown",
            "source": [
                "## **Part F: Wrap-up Query**\n",
                "\n",
                "Create a query that returns the names of the patrons with the genre of every book they currently have checked out.\n",
                "\n",
                "Things to consider:  How are these tables related and connected to each other?\n",
                "\n",
                "> _Note:  If you find a NULL in your output instead of a loan id,   this is likely because there are multiple loans per patron.  Try_ _clearing out the loan table.  You can do this by either dropping the entire table or clearing specific rows._"
            ],
            "metadata": {
                "azdata_cell_guid": "9e29f561-1501-45ac-b6cf-f2136fe5097f"
            },
            "attachments": {}
        },
        {
            "cell_type": "code",
            "source": [
                "-- Create your Wrap-Up query here:"
            ],
            "metadata": {
                "azdata_cell_guid": "c568e7c2-283b-43ab-bf66-8982117c181b",
                "language": "sql"
            },
            "outputs": [],
            "execution_count": null
        },
        {
            "cell_type": "markdown",
            "source": [
                "## **Bonus Challenge:**\n",
                "\n",
                "This is an optional challenge.\n",
                "\n",
                "Create a new table for reference materials using the following code:\n",
                "\n",
                "```\n",
                "CREATE TABLE [DB].[schema].reference_books (\n",
                "    reference_id INT IDENTITY(1,1) PRIMARY KEY,\n",
                "    edition INT,\n",
                "    book_id INT,\n",
                "    book_id INT FOREIGN KEY REFERENCES [DB].[schema].book(book_id)\n",
                "        ON UPDATE SET NULL\n",
                "        ON DELETE SET NULL\n",
                ");\n",
                "```\n",
                "\n",
                "Fill the table with the following query:\n",
                "\n",
                "```\n",
                "INSERT INTO [DB].[schema].reference_books (edition, book_id)\n",
                "VALUE (5,32);\n",
                "```"
            ],
            "metadata": {
                "azdata_cell_guid": "863f5070-2fd7-4dfa-aaf8-dfc148362cec"
            },
            "attachments": {}
        },
        {
            "cell_type": "code",
            "source": [
                "-- Create and fill your reference table here:\n",
                ""
            ],
            "metadata": {
                "azdata_cell_guid": "b7699c0f-e06b-429b-bd94-9cca18968797",
                "language": "sql"
            },
            "outputs": [],
            "execution_count": null
        },
        {
            "cell_type": "markdown",
            "source": [
                "<span style=\"font-size: 14px; font-family: -apple-system, BlinkMacSystemFont, sans-serif;\">A reference book cannot leave the library.&nbsp; How would you modify either the <b>reference_book</b> table or the <b>book</b> table to make sure that doesn't happen?&nbsp; Try to apply your modifications.</span>"
            ],
            "metadata": {
                "azdata_cell_guid": "e647d002-c3ae-415c-9fb3-c2e8c7e5ec7f"
            },
            "attachments": {}
        },
        {
            "cell_type": "code",
            "source": [
                "-- Code your query here:"
            ],
            "metadata": {
                "azdata_cell_guid": "f8c66034-a75e-4fd3-96ac-50e25fd73263",
                "language": "sql"
            },
            "outputs": [],
            "execution_count": null
        }
    ]
}